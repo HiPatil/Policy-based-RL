{
 "cells": [
  {
   "cell_type": "code",
   "execution_count": 1,
   "metadata": {},
   "outputs": [],
   "source": [
    "import gym\n",
    "\n",
    "import torch\n",
    "import torch.nn as nn\n",
    "import torch.optim as optim\n",
    "\n",
    "import numpy as np\n",
    "import time\n",
    "import random"
   ]
  },
  {
   "cell_type": "code",
   "execution_count": 2,
   "metadata": {},
   "outputs": [
    {
     "name": "stdout",
     "output_type": "stream",
     "text": [
      "Number of observation: (4,) \n",
      " number of actions: Box(1,)\n"
     ]
    }
   ],
   "source": [
    "env = gym.make('InvertedPendulum-v2')\n",
    "\n",
    "print('Number of observation:', env.observation_space.shape, '\\n number of actions:', env.action_space)\n",
    "# for _ in range(100):\n",
    "#     env.render()\n",
    "#     time.sleep(0.01)\n",
    "#     env.step(env.action_space.sample())   # take random actions  "
   ]
  },
  {
   "cell_type": "code",
   "execution_count": 3,
   "metadata": {},
   "outputs": [
    {
     "name": "stdout",
     "output_type": "stream",
     "text": [
      "cuda\n"
     ]
    }
   ],
   "source": [
    "device = torch.device(\"cuda\" if torch.cuda.is_available() else \"cpu\")\n",
    "print(device)"
   ]
  },
  {
   "cell_type": "code",
   "execution_count": 4,
   "metadata": {},
   "outputs": [],
   "source": [
    "START_EPS = 0.95\n",
    "END_EPS = 0.01\n",
    "EPS_DECAY = 4000\n",
    "BATCH_SIZE = 128\n",
    "LEARNING_RATE = 0.0001\n",
    "N_EPISODES = 200\n",
    "DISCOUNT = 0.999\n",
    "\n",
    "OBS_DIM = env.observation_space.shape[0]\n",
    "ACTION_DIM = env.action_space.shape[0]\n"
   ]
  },
  {
   "cell_type": "code",
   "execution_count": 5,
   "metadata": {},
   "outputs": [],
   "source": [
    "def plot(n_rewards):\n",
    "    clear_output(True)\n",
    "    plt.figure(figsize=(20,5))\n",
    "    plt.subplot(131)\n",
    "    plt.title('Reward: %s' % (np.mean(n_rewards[-10:])))\n",
    "    plt.plot(n_rewards)\n",
    "#   plt.subplot(132)\n",
    "#   plt.title('loss')\n",
    "#   plt.plot(losses)\n",
    "    plt.show()"
   ]
  },
  {
   "cell_type": "code",
   "execution_count": 6,
   "metadata": {},
   "outputs": [],
   "source": [
    "class mcpg(nn.Module):\n",
    "    def __init__(self, observations, actions):\n",
    "        super(mcpg, self).__init__()\n",
    "        self.network = nn.Sequential(\n",
    "            nn.Linear(observations, 32),\n",
    "            nn.ReLU(),\n",
    "            nn.Linear(32, 16),\n",
    "            nn.ReLU(),\n",
    "            nn.Linear(16, actions)\n",
    "        )\n",
    "    \n",
    "    def forward(self, x):\n",
    "        return self.network(x)"
   ]
  },
  {
   "cell_type": "code",
   "execution_count": 184,
   "metadata": {},
   "outputs": [],
   "source": [
    "def act(state, std = 0.0):\n",
    "    global START_EPS, EPS_DECAY, END_EPS\n",
    "    START_EPS = max((START_EPS*EPS_DECAY), END_EPS)\n",
    "    \n",
    "    log_std = nn.Parameter(torch.ones(1, ACTION_DIM)*std)\n",
    "    \n",
    "    state = torch.FloatTensor(state).to(device)\n",
    "\n",
    "    prob = policy(state)\n",
    "    prob = prob.unsqueeze(dim = 0)\n",
    "    \n",
    "    std   = log_std.exp().expand_as(prob).to(device)\n",
    "    \n",
    "    m = torch.distributions.Normal(prob, std)\n",
    "    action = m.sample()\n",
    "    log_prob = m.log_prob(action)\n",
    "    \n",
    "#     print(log_prob.item())\n",
    "    \n",
    "    return action.detach().cpu().numpy(), log_prob"
   ]
  },
  {
   "cell_type": "code",
   "execution_count": 185,
   "metadata": {},
   "outputs": [],
   "source": [
    "policy = mcpg(OBS_DIM, ACTION_DIM).to(device)\n",
    "\n",
    "criterion = nn.MSELoss().to(device)\n",
    "optimizer = optim.Adam(policy.parameters(), lr = LEARNING_RATE)\n"
   ]
  },
  {
   "cell_type": "code",
   "execution_count": 186,
   "metadata": {},
   "outputs": [],
   "source": [
    "class trajectory():\n",
    "    def __init__(self, DISCOUNT):\n",
    "        self.log_probs = []\n",
    "        self.returns = []\n",
    "        self.discount = DISCOUNT\n",
    "        \n",
    "    def clear(self):\n",
    "        self.log_probs = []\n",
    "        self.returns = []\n",
    "        \n",
    "    def push(self, log_probs, rewards):\n",
    "        r = rewards.copy()\n",
    "        Gt = 0\n",
    "        for i in range(len(r)):\n",
    "            Gt = Gt*self.discount + r[i]\n",
    "        print(log_probs)\n",
    "        self.log_probs.append(log_probs)\n",
    "        self.returns.append(Gt)"
   ]
  },
  {
   "cell_type": "code",
   "execution_count": 187,
   "metadata": {},
   "outputs": [],
   "source": [
    "traj = trajectory(DISCOUNT)"
   ]
  },
  {
   "cell_type": "code",
   "execution_count": 188,
   "metadata": {},
   "outputs": [],
   "source": [
    "def update():\n",
    "    optimizer.zero_grad()\n",
    "    loss = 0\n",
    "    \n",
    "    for itr, log_prob in enumerate(traj.log_probs):\n",
    "        ret = traj.returns[itr]\n",
    "#         print(log_prob)\n",
    "#         print(ret)\n",
    "        loss -= torch.sum(log_prob*ret)\n",
    "        \n",
    "    loss.backward()\n",
    "    optimizer.step()\n",
    "    \n",
    "    traj.clear()        "
   ]
  },
  {
   "cell_type": "code",
   "execution_count": 189,
   "metadata": {},
   "outputs": [
    {
     "name": "stdout",
     "output_type": "stream",
     "text": [
      "[tensor([[-1.6359]], device='cuda:0', grad_fn=<SubBackward0>), tensor([[-1.0870]], device='cuda:0', grad_fn=<SubBackward0>), tensor([[-0.9250]], device='cuda:0', grad_fn=<SubBackward0>), tensor([[-0.9201]], device='cuda:0', grad_fn=<SubBackward0>), tensor([[-2.3786]], device='cuda:0', grad_fn=<SubBackward0>), tensor([[-1.1562]], device='cuda:0', grad_fn=<SubBackward0>), tensor([[-1.0379]], device='cuda:0', grad_fn=<SubBackward0>), tensor([[-1.3158]], device='cuda:0', grad_fn=<SubBackward0>), tensor([[-1.0720]], device='cuda:0', grad_fn=<SubBackward0>), tensor([[-0.9189]], device='cuda:0', grad_fn=<SubBackward0>)]\n"
     ]
    },
    {
     "ename": "TypeError",
     "evalue": "can't multiply sequence by non-int of type 'float'",
     "output_type": "error",
     "traceback": [
      "\u001b[0;31m---------------------------------------------------------------------------\u001b[0m",
      "\u001b[0;31mTypeError\u001b[0m                                 Traceback (most recent call last)",
      "\u001b[0;32m<ipython-input-189-8c2fdd46cbde>\u001b[0m in \u001b[0;36m<module>\u001b[0;34m\u001b[0m\n\u001b[1;32m     22\u001b[0m     \u001b[0mtraj\u001b[0m\u001b[0;34m.\u001b[0m\u001b[0mpush\u001b[0m\u001b[0;34m(\u001b[0m\u001b[0mlog_probs\u001b[0m\u001b[0;34m,\u001b[0m \u001b[0mep_rewards\u001b[0m\u001b[0;34m)\u001b[0m\u001b[0;34m\u001b[0m\u001b[0;34m\u001b[0m\u001b[0m\n\u001b[1;32m     23\u001b[0m \u001b[0;34m\u001b[0m\u001b[0m\n\u001b[0;32m---> 24\u001b[0;31m     \u001b[0mupdate\u001b[0m\u001b[0;34m(\u001b[0m\u001b[0;34m)\u001b[0m\u001b[0;34m\u001b[0m\u001b[0;34m\u001b[0m\u001b[0m\n\u001b[0m\u001b[1;32m     25\u001b[0m     \u001b[0mn_rewards\u001b[0m\u001b[0;34m.\u001b[0m\u001b[0mappend\u001b[0m\u001b[0;34m(\u001b[0m\u001b[0mep_rewards\u001b[0m\u001b[0;34m)\u001b[0m\u001b[0;34m\u001b[0m\u001b[0;34m\u001b[0m\u001b[0m\n\u001b[1;32m     26\u001b[0m     \u001b[0mplot\u001b[0m\u001b[0;34m(\u001b[0m\u001b[0mn_rewards\u001b[0m\u001b[0;34m)\u001b[0m\u001b[0;34m\u001b[0m\u001b[0;34m\u001b[0m\u001b[0m\n",
      "\u001b[0;32m<ipython-input-188-e12317e770f6>\u001b[0m in \u001b[0;36mupdate\u001b[0;34m()\u001b[0m\n\u001b[1;32m      7\u001b[0m \u001b[0;31m#         print(log_prob)\u001b[0m\u001b[0;34m\u001b[0m\u001b[0;34m\u001b[0m\u001b[0;34m\u001b[0m\u001b[0m\n\u001b[1;32m      8\u001b[0m \u001b[0;31m#         print(ret)\u001b[0m\u001b[0;34m\u001b[0m\u001b[0;34m\u001b[0m\u001b[0;34m\u001b[0m\u001b[0m\n\u001b[0;32m----> 9\u001b[0;31m         \u001b[0mloss\u001b[0m \u001b[0;34m-=\u001b[0m \u001b[0mtorch\u001b[0m\u001b[0;34m.\u001b[0m\u001b[0msum\u001b[0m\u001b[0;34m(\u001b[0m\u001b[0mlog_prob\u001b[0m\u001b[0;34m*\u001b[0m\u001b[0mret\u001b[0m\u001b[0;34m)\u001b[0m\u001b[0;34m\u001b[0m\u001b[0;34m\u001b[0m\u001b[0m\n\u001b[0m\u001b[1;32m     10\u001b[0m \u001b[0;34m\u001b[0m\u001b[0m\n\u001b[1;32m     11\u001b[0m     \u001b[0mloss\u001b[0m\u001b[0;34m.\u001b[0m\u001b[0mbackward\u001b[0m\u001b[0;34m(\u001b[0m\u001b[0;34m)\u001b[0m\u001b[0;34m\u001b[0m\u001b[0;34m\u001b[0m\u001b[0m\n",
      "\u001b[0;31mTypeError\u001b[0m: can't multiply sequence by non-int of type 'float'"
     ]
    }
   ],
   "source": [
    "n_rewards = []\n",
    "\n",
    "for i in range(1, N_EPISODES+1):\n",
    "    ep_rewards = []\n",
    "    log_probs = []\n",
    "    done = False\n",
    "    \n",
    "    state = env.reset()\n",
    "    \n",
    "    while not done:\n",
    "        action, log_prob = act(state)\n",
    "        \n",
    "        next_state, reward, done, _ = env.step(action)\n",
    "        \n",
    "        ep_rewards.append(reward)\n",
    "        log_probs.append(log_prob)\n",
    "        \n",
    "        if i%5 == 0:\n",
    "            env.render()\n",
    "        state = next_state\n",
    "        \n",
    "    traj.push(log_probs, ep_rewards)\n",
    "    \n",
    "    update()\n",
    "    n_rewards.append(ep_rewards)\n",
    "    plot(n_rewards)"
   ]
  },
  {
   "cell_type": "code",
   "execution_count": null,
   "metadata": {},
   "outputs": [],
   "source": []
  }
 ],
 "metadata": {
  "kernelspec": {
   "display_name": "Python 3",
   "language": "python",
   "name": "python3"
  },
  "language_info": {
   "codemirror_mode": {
    "name": "ipython",
    "version": 3
   },
   "file_extension": ".py",
   "mimetype": "text/x-python",
   "name": "python",
   "nbconvert_exporter": "python",
   "pygments_lexer": "ipython3",
   "version": "3.7.7"
  }
 },
 "nbformat": 4,
 "nbformat_minor": 2
}

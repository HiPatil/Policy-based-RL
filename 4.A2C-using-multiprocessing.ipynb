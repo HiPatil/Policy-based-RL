{
 "cells": [
  {
   "cell_type": "markdown",
   "metadata": {},
   "source": [
    "# Advantage Actor Critic (A2C)"
   ]
  },
  {
   "cell_type": "code",
   "execution_count": 1,
   "metadata": {},
   "outputs": [],
   "source": [
    "import numpy as np\n",
    "import time\n",
    "import random\n",
    "import gym\n",
    "\n",
    "import torch\n",
    "import torch.nn as nn\n",
    "import torch.optim as optim\n",
    "import torch.nn.functional as F\n",
    "\n",
    "import matplotlib.pyplot as plt\n",
    "\n",
    "from IPython.display import clear_output\n",
    "%matplotlib inline"
   ]
  },
  {
   "cell_type": "markdown",
   "metadata": {},
   "source": [
    "### Checking for cuda device"
   ]
  },
  {
   "cell_type": "code",
   "execution_count": 2,
   "metadata": {},
   "outputs": [
    {
     "name": "stdout",
     "output_type": "stream",
     "text": [
      "cuda\n"
     ]
    }
   ],
   "source": [
    "device = torch.device(\"cuda\" if torch.cuda.is_available() else \"cpu\")\n",
    "print(device)"
   ]
  },
  {
   "cell_type": "code",
   "execution_count": 3,
   "metadata": {},
   "outputs": [],
   "source": [
    "# env = gym.make('HalfCheetah-v2')\n",
    "\n",
    "# print('Observation Shape:', env.observation_space.shape, '\\nAction Shape:', env.action_space)\n",
    "# env.reset()\n",
    "# for _ in range(100):\n",
    "#     env.render()\n",
    "#     time.sleep(0.01)\n",
    "#     env.step(env.action_space.sample())   # take random actions  \n",
    "# env.close()"
   ]
  },
  {
   "cell_type": "markdown",
   "metadata": {},
   "source": [
    "### Creating Multiple Agents of Environment"
   ]
  },
  {
   "cell_type": "code",
   "execution_count": 4,
   "metadata": {},
   "outputs": [],
   "source": [
    "from multiprocessing_env import SubprocVecEnv\n",
    "\n",
    "num_envs = 16\n",
    "env_id = 'HalfCheetah-v2'\n",
    "\n",
    "def make_env():\n",
    "    def _thunk():\n",
    "        env = gym.make(env_id)\n",
    "        return env\n",
    "    return _thunk\n",
    "\n",
    "envs = [make_env() for i in range(num_envs)]\n",
    "envs = SubprocVecEnv(envs)\n",
    "\n",
    "env = gym.make(env_id)"
   ]
  },
  {
   "cell_type": "markdown",
   "metadata": {},
   "source": [
    "### Initialization of Hyperparameters"
   ]
  },
  {
   "cell_type": "code",
   "execution_count": 5,
   "metadata": {},
   "outputs": [],
   "source": [
    "LEARNING_RATE = 0.0003\n",
    "DISCOUNT = 0.99\n",
    "EPS = 1\n",
    "EPS_DECAY = 0.9999\n",
    "END_EPS = 0.1\n",
    "\n",
    "N_EPISODE = 50000\n",
    "\n",
    "\n",
    "# Dimensions of input and output of environment\n",
    "obs_dim = envs.observation_space.shape[0]\n",
    "action_dim = envs.action_space.shape[0]\n",
    "\n",
    "# print(obs_dim, action_dim)"
   ]
  },
  {
   "cell_type": "markdown",
   "metadata": {},
   "source": [
    "### Actor Network"
   ]
  },
  {
   "cell_type": "code",
   "execution_count": 6,
   "metadata": {},
   "outputs": [],
   "source": [
    "class Actor(nn.Module):\n",
    "    def __init__(self, observations, actions):\n",
    "        super(Actor, self).__init__()\n",
    "        self.actor = nn.Sequential(\n",
    "            nn.Linear(observations, 64),\n",
    "            nn.ReLU(),\n",
    "            nn.Linear(64, 32),\n",
    "            nn.ReLU()\n",
    "        )\n",
    "        self.l1 = nn.Linear(32, actions)\n",
    "        self.l2 = nn.Linear(32, actions)\n",
    "#         self.t = nn.Tanh()\n",
    "    def forward(self, x):\n",
    "        x = self.actor(x)\n",
    "        mean = self.l1(x)\n",
    "        variance = F.softplus(self.l2(x))\n",
    "        \n",
    "        return mean, variance"
   ]
  },
  {
   "cell_type": "code",
   "execution_count": 7,
   "metadata": {},
   "outputs": [],
   "source": [
    "actor = Actor(obs_dim, action_dim).to(device)\n",
    "optimizerA = optim.Adam(actor.parameters(), lr = LEARNING_RATE)"
   ]
  },
  {
   "cell_type": "markdown",
   "metadata": {},
   "source": [
    "### Sampling of action from Normal Distribution"
   ]
  },
  {
   "cell_type": "code",
   "execution_count": 8,
   "metadata": {},
   "outputs": [],
   "source": [
    "def actors_action(state):\n",
    "    \n",
    "    mean, variance = actor(state)\n",
    "    \n",
    "    m = torch.distributions.Normal(mean, torch.sqrt(variance))\n",
    "    action = m.sample()\n",
    "    log_prob = m.log_prob(action)\n",
    "    \n",
    "    return action.detach().cpu().numpy(), log_prob"
   ]
  },
  {
   "cell_type": "markdown",
   "metadata": {},
   "source": [
    "### Critic Network"
   ]
  },
  {
   "cell_type": "code",
   "execution_count": 9,
   "metadata": {},
   "outputs": [],
   "source": [
    "class Critic(nn.Module):\n",
    "    def __init__(self, observations, actions):\n",
    "        super(Critic, self).__init__()\n",
    "        self.network = nn.Sequential(\n",
    "            nn.Linear(observations, 64),\n",
    "            nn.ReLU(),\n",
    "            nn.Linear(64, 32),\n",
    "            nn.ReLU(),\n",
    "            nn.Linear(32, actions)\n",
    "        )\n",
    "    \n",
    "    def forward(self, x):\n",
    "        return self.network(x)"
   ]
  },
  {
   "cell_type": "code",
   "execution_count": 10,
   "metadata": {},
   "outputs": [],
   "source": [
    "critic = Critic(obs_dim, action_dim).to(device)\n",
    "optimizerC = optim.Adam(critic.parameters(), lr = LEARNING_RATE)"
   ]
  },
  {
   "cell_type": "markdown",
   "metadata": {},
   "source": [
    "### Computing Q-Values"
   ]
  },
  {
   "cell_type": "code",
   "execution_count": 11,
   "metadata": {},
   "outputs": [],
   "source": [
    "def compute_returns(next_state, rewards, done, discount = DISCOUNT):\n",
    "#     q_val = critic(state)\n",
    "\n",
    "    next_state = torch.FloatTensor(next_state).to(device)\n",
    "    next_q_val = critic(next_state)\n",
    "    returns = []\n",
    "    \n",
    "    for step in reversed(range(len(rewards))):\n",
    "        next_q_val = rewards[step] + discount*next_q_val*(1-done[step])\n",
    "        returns.append(next_q_val)\n",
    "        \n",
    "    returns.reverse()\n",
    "    \n",
    "    return returns  "
   ]
  },
  {
   "cell_type": "markdown",
   "metadata": {},
   "source": [
    "### Updating Actor based on Q-values by critic"
   ]
  },
  {
   "cell_type": "code",
   "execution_count": 12,
   "metadata": {},
   "outputs": [],
   "source": [
    "actor_loss = 0\n",
    "critic_loss = 0\n",
    "def ACupdate(log_probs, q_vals, values):\n",
    "\n",
    "#     print(log_probs.shape)\n",
    "    advantage = q_vals - values\n",
    "\n",
    "    actor_loss = (-log_probs*advantage.detach()).mean()\n",
    "    critic_loss = advantage.pow(2).mean()\n",
    "    \n",
    "#     for itr in range(len(log_probs)):\n",
    "#         log_prob = log_probs[itr]\n",
    "#         retr = ret[itr]\n",
    "#         value = values[itr]\n",
    "        \n",
    "#         actor_loss -= torch.sum(log_prob*retr)\n",
    "# #         print('AL', actor_loss)\n",
    "        \n",
    "# #         print(criterionC(value, retr))\n",
    "#         critic_loss += criterionC(value, retr.detach())\n",
    "    optimizerA.zero_grad()\n",
    "    optimizerC.zero_grad()\n",
    "    \n",
    "    actor_loss.backward()\n",
    "    critic_loss.backward()\n",
    "    \n",
    "    optimizerA.step()\n",
    "    optimizerC.step()"
   ]
  },
  {
   "cell_type": "code",
   "execution_count": 13,
   "metadata": {},
   "outputs": [],
   "source": [
    "mean_avg = []\n",
    "def plot(n_rewards, maximum):\n",
    "    clear_output(True)\n",
    "    plt.figure(figsize=(22,10))\n",
    "    mean = np.mean(n_rewards[-50:])\n",
    "#     plt.subplot(131)\n",
    "    mean_avg.append(mean)\n",
    "    plt.title('Reward: %.4f | Maximum %.4f' % (mean, maximum))\n",
    "    plt.plot(n_rewards)\n",
    "#     plt.plot(mean_avg)\n",
    "#   plt.subplot(132)\n",
    "#   plt.title('loss')\n",
    "#   plt.plot(losses)\n",
    "    plt.show()"
   ]
  },
  {
   "cell_type": "code",
   "execution_count": 14,
   "metadata": {},
   "outputs": [],
   "source": [
    "def test_env(vis=False):\n",
    "    state = env.reset()\n",
    "    if vis: env.render()\n",
    "    done = False\n",
    "    total_reward = 0\n",
    "    while not done:\n",
    "        state = torch.FloatTensor(state).unsqueeze(0).to(device)\n",
    "        \n",
    "        action, log_prob = actors_action(state)\n",
    "    \n",
    "        next_state, reward, done, _ = env.step(action)\n",
    "        state = next_state\n",
    "        \n",
    "        total_reward += reward\n",
    "    return total_reward"
   ]
  },
  {
   "cell_type": "markdown",
   "metadata": {},
   "source": [
    "### Training QAC"
   ]
  },
  {
   "cell_type": "code",
   "execution_count": null,
   "metadata": {
    "scrolled": false
   },
   "outputs": [
    {
     "data": {
      "image/png": "[encoded data removed]",
      "text/plain": [
       "<Figure size 1584x720 with 1 Axes>"
      ]
     },
     "metadata": {
      "needs_background": "light"
     },
     "output_type": "display_data"
    }
   ],
   "source": [
    "n_rewards = []\n",
    "maximum = -10000\n",
    "total_reward = []\n",
    "for i in range(1, N_EPISODE+1):\n",
    "    ep_rewards = []\n",
    "    log_probs = []\n",
    "    done_states = []\n",
    "#     returns = []\n",
    "    values = []\n",
    "    \n",
    "    state = envs.reset()\n",
    "    ret = 0\n",
    "    \n",
    "    while True:\n",
    "        state = torch.FloatTensor(state).to(device)\n",
    "        action, log_prob = actors_action(state)\n",
    "        \n",
    "        value = critic(state)\n",
    "        \n",
    "        next_state, reward, done, _ = envs.step(action)\n",
    "        \n",
    "        \n",
    "        ep_rewards.append(torch.FloatTensor(reward).unsqueeze(1).to(device))\n",
    "        log_probs.append(log_prob)\n",
    "        done_states.append(torch.FloatTensor(done).unsqueeze(1).to(device))\n",
    "        values.append(value)\n",
    "\n",
    "#         total_reward += reward\n",
    "#         ret = compute_returns(next_state, reward, done, ret)\n",
    "#         if i%5 == 0:\n",
    "#             env.render()\n",
    "        state = next_state\n",
    "        \n",
    "        if done.all() == True :\n",
    "#             print(done)\n",
    "            break\n",
    "    ob_reward = np.mean([test_env() for _ in range(10)])\n",
    "    total_reward.append(ob_reward) \n",
    "    q_vals = compute_returns(next_state, ep_rewards, done_states)\n",
    "    q_vals = torch.cat(q_vals).detach()\n",
    "    values = torch.cat(values)\n",
    "    log_probs = torch.cat(log_probs)\n",
    "    \n",
    "#     print(values, q_vals, log_probs)\n",
    "    ACupdate(log_probs, q_vals, values)\n",
    "    \n",
    "#     n_rewards.append(total_reward)\n",
    "    \n",
    "    if ob_reward >= maximum:\n",
    "        torch.save(actor.state_dict(), 'adv-actor_halfcheetah.pth')\n",
    "        torch.save(critic.state_dict(), 'adv-critic_halfcheetah.pth')\n",
    "        maximum = ob_reward\n",
    "        print(\"Model Saved\")\n",
    "    \n",
    "    plot(total_reward, maximum)"
   ]
  },
  {
   "cell_type": "code",
   "execution_count": null,
   "metadata": {},
   "outputs": [],
   "source": [
    "# state = env.reset()\n",
    "\n",
    "\n",
    "# total_reward = 0\n",
    "# done = False\n",
    "\n",
    "# actor.load_state_dict(torch.load('/home/himanshu/RL/Policy-based-RL/adv-actor_halfcheetah.pth'))\n",
    "# critic.load_state_dict(torch.load('/home/himanshu/RL/Policy-based-RL/adv-critic_halfcheetah.pth'))\n",
    "# print(\"Model Loaded\")\n",
    "# actor.to(device)\n",
    "# critic.to(device)\n",
    "\n",
    "# while not done:\n",
    "#     state = torch.FloatTensor(state).to(device)\n",
    "#     action, log_prob = actors_action(state)\n",
    "    \n",
    "#     next_state, reward, done, _ = env.step(action)\n",
    "#     total_reward += reward\n",
    "    \n",
    "#     env.render()\n",
    "#     time.sleep(0.01)\n",
    "    \n",
    "#     state = next_state\n",
    "    \n",
    "# print('Duration till which pole is balanced: ', total_reward)\n",
    "\n",
    "# env.close()"
   ]
  },
  {
   "cell_type": "code",
   "execution_count": null,
   "metadata": {},
   "outputs": [],
   "source": []
  }
 ],
 "metadata": {
  "kernelspec": {
   "display_name": "Python 3",
   "language": "python",
   "name": "python3"
  },
  "language_info": {
   "codemirror_mode": {
    "name": "ipython",
    "version": 3
   },
   "file_extension": ".py",
   "mimetype": "text/x-python",
   "name": "python",
   "nbconvert_exporter": "python",
   "pygments_lexer": "ipython3",
   "version": "3.7.7"
  }
 },
 "nbformat": 4,
 "nbformat_minor": 4
}

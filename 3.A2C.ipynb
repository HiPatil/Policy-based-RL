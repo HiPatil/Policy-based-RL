{
 "cells": [
  {
   "cell_type": "markdown",
   "metadata": {},
   "source": [
    "# Advantage Actor Critic (A2C)"
   ]
  },
  {
   "cell_type": "code",
   "execution_count": 1,
   "metadata": {},
   "outputs": [],
   "source": [
    "import numpy as np\n",
    "import time\n",
    "import random\n",
    "import gym\n",
    "\n",
    "import torch\n",
    "import torch.nn as nn\n",
    "import torch.optim as optim\n",
    "import torch.nn.functional as F\n",
    "\n",
    "import matplotlib.pyplot as plt\n",
    "\n",
    "from IPython.display import clear_output\n",
    "%matplotlib inline"
   ]
  },
  {
   "cell_type": "code",
   "execution_count": 2,
   "metadata": {},
   "outputs": [
    {
     "name": "stdout",
     "output_type": "stream",
     "text": [
      "Observation Shape: (4,) \n",
      "Action Shape: Box(1,)\n"
     ]
    }
   ],
   "source": [
    "env = gym.make('InvertedPendulum-v2')\n",
    "\n",
    "print('Observation Shape:', env.observation_space.shape, '\\nAction Shape:', env.action_space)\n",
    "# env.reset()\n",
    "# for _ in range(100):\n",
    "#     env.render()\n",
    "#     time.sleep(0.01)\n",
    "#     env.step(env.action_space.sample())   # take random actions  \n",
    "# env.close()"
   ]
  },
  {
   "cell_type": "markdown",
   "metadata": {},
   "source": [
    "### Checking for cuda device"
   ]
  },
  {
   "cell_type": "code",
   "execution_count": 3,
   "metadata": {},
   "outputs": [
    {
     "name": "stdout",
     "output_type": "stream",
     "text": [
      "cuda\n"
     ]
    }
   ],
   "source": [
    "device = torch.device(\"cuda\" if torch.cuda.is_available() else \"cpu\")\n",
    "print(device)"
   ]
  },
  {
   "cell_type": "markdown",
   "metadata": {},
   "source": [
    "### Initialization of Hyperparameters"
   ]
  },
  {
   "cell_type": "code",
   "execution_count": 4,
   "metadata": {},
   "outputs": [
    {
     "name": "stdout",
     "output_type": "stream",
     "text": [
      "[3.]\n"
     ]
    }
   ],
   "source": [
    "LEARNING_RATE = 0.001\n",
    "DISCOUNT = 0.99\n",
    "EPS = 1\n",
    "EPS_DECAY = 0.9999\n",
    "END_EPS = 0.1\n",
    "\n",
    "N_EPISODE = 1000\n",
    "\n",
    "\n",
    "# Dimensions of input and output of environment\n",
    "obs_dim = env.observation_space.shape[0]\n",
    "action_dim = env.action_space.shape[0]\n",
    "action_max = env.action_space.high\n",
    "print(action_max)"
   ]
  },
  {
   "cell_type": "markdown",
   "metadata": {},
   "source": [
    "### Actor Network"
   ]
  },
  {
   "cell_type": "code",
   "execution_count": 5,
   "metadata": {},
   "outputs": [],
   "source": [
    "class Actor(nn.Module):\n",
    "    def __init__(self, observations, actions):\n",
    "        super(Actor, self).__init__()\n",
    "        self.actor = nn.Sequential(\n",
    "            nn.Linear(observations, 32),\n",
    "            nn.ReLU(),\n",
    "            nn.Linear(32, 16),\n",
    "            nn.ReLU()\n",
    "        )\n",
    "        self.l1 = nn.Linear(16, actions)\n",
    "        self.l2 = nn.Linear(16, actions)\n",
    "        \n",
    "    def forward(self, x):\n",
    "        x = self.actor(x)\n",
    "        mean = self.l1(x)\n",
    "        variance = F.softplus(self.l2(x))\n",
    "        \n",
    "        return mean, variance"
   ]
  },
  {
   "cell_type": "code",
   "execution_count": 6,
   "metadata": {},
   "outputs": [],
   "source": [
    "actor = Actor(obs_dim, action_dim).to(device)\n",
    "optimizerA = optim.Adam(actor.parameters())"
   ]
  },
  {
   "cell_type": "markdown",
   "metadata": {},
   "source": [
    "### Sampling of action from Normal Distribution"
   ]
  },
  {
   "cell_type": "code",
   "execution_count": 7,
   "metadata": {},
   "outputs": [],
   "source": [
    "def actors_action(state):\n",
    "    \n",
    "    mean, variance = actor(state)\n",
    "    \n",
    "    m = torch.distributions.Normal(mean, torch.sqrt(variance))\n",
    "    action = m.sample()\n",
    "    log_prob = m.log_prob(action).sum(-1).unsqueeze(-1)\n",
    "#     print(\"Entropy\", m.entropy())\n",
    "    \n",
    "    return action.detach().cpu().numpy(), log_prob"
   ]
  },
  {
   "cell_type": "markdown",
   "metadata": {},
   "source": [
    "### Critic Network"
   ]
  },
  {
   "cell_type": "code",
   "execution_count": 8,
   "metadata": {},
   "outputs": [],
   "source": [
    "class Critic(nn.Module):\n",
    "    def __init__(self, observations):\n",
    "        super(Critic, self).__init__()\n",
    "        self.network = nn.Sequential(\n",
    "            nn.Linear(observations, 64),\n",
    "            nn.ReLU(),\n",
    "            nn.Linear(64, 32),\n",
    "            nn.ReLU(),\n",
    "            nn.Linear(32, 1)\n",
    "        )\n",
    "    \n",
    "    def forward(self, x):\n",
    "        return self.network(x)"
   ]
  },
  {
   "cell_type": "code",
   "execution_count": 9,
   "metadata": {},
   "outputs": [],
   "source": [
    "critic = Critic(obs_dim).to(device)\n",
    "optimizerC = optim.Adam(critic.parameters())\n",
    "criterionC = nn.MSELoss().to(device)"
   ]
  },
  {
   "cell_type": "markdown",
   "metadata": {},
   "source": [
    "### Computing Q-Values"
   ]
  },
  {
   "cell_type": "code",
   "execution_count": 10,
   "metadata": {},
   "outputs": [],
   "source": [
    "def compute_returns(next_state, rewards, done, discount = DISCOUNT):\n",
    "#     q_val = critic(state)\n",
    "\n",
    "    next_state = torch.FloatTensor(next_state).to(device)\n",
    "    next_q_val = critic(next_state)\n",
    "    returns = []\n",
    "    for step in reversed(range(len(rewards))):\n",
    "\n",
    "        next_q_val = rewards[step] + discount*next_q_val*(1-done[step])\n",
    "        returns.append(next_q_val)\n",
    "        \n",
    "    returns.reverse()\n",
    "    \n",
    "    return returns\n",
    "    "
   ]
  },
  {
   "cell_type": "markdown",
   "metadata": {},
   "source": [
    "### Updating Actor based on Q-values by critic"
   ]
  },
  {
   "cell_type": "code",
   "execution_count": 11,
   "metadata": {},
   "outputs": [],
   "source": [
    "def ACupdate(log_probs, q_vals, values):\n",
    "    optimizerA.zero_grad()\n",
    "    optimizerC.zero_grad()\n",
    "    \n",
    "    actor_loss = 0\n",
    "    critic_loss = 0\n",
    "    \n",
    "    advantage = q_vals - values\n",
    "#     print(-(log_probs*advantage).sum())\n",
    "    actor_loss = -(log_probs*advantage.detach()).mean()\n",
    "    \n",
    "    critic_loss = advantage.pow(2).mean()\n",
    "    \n",
    "#     for itr in range(len(log_probs)):\n",
    "#         log_prob = log_probs[itr]\n",
    "#         retr = ret[itr]\n",
    "#         value = values[itr]\n",
    "        \n",
    "#         actor_loss -= torch.sum(log_prob*retr)\n",
    "# #         print('AL', actor_loss)\n",
    "        \n",
    "# #         print(criterionC(value, retr))\n",
    "#         critic_loss += criterionC(value, retr.detach())\n",
    "        \n",
    "    actor_loss.backward()\n",
    "    critic_loss.backward()\n",
    "    \n",
    "    optimizerA.step()\n",
    "    optimizerC.step()\n",
    "    \n",
    "    return (actor_loss+critic_loss).item()"
   ]
  },
  {
   "cell_type": "code",
   "execution_count": 12,
   "metadata": {},
   "outputs": [],
   "source": [
    "mean_avg = []\n",
    "losses = []\n",
    "def plot(n_rewards, loss):\n",
    "    clear_output(True)\n",
    "    plt.figure(figsize=(30,5))\n",
    "    mean = np.mean(n_rewards[-20:])\n",
    "    plt.subplot(131)\n",
    "    mean_avg.append(mean)\n",
    "    plt.title('Reward: %s' % (mean))\n",
    "    plt.plot(n_rewards)\n",
    "    plt.plot(mean_avg)\n",
    "    loss = loss/1000\n",
    "    losses.append(loss)\n",
    "    plt.subplot(132)\n",
    "    plt.title('loss %.2f' % loss)\n",
    "    plt.plot(losses)\n",
    "    plt.show()"
   ]
  },
  {
   "cell_type": "markdown",
   "metadata": {},
   "source": [
    "### Training A2C"
   ]
  },
  {
   "cell_type": "code",
   "execution_count": 13,
   "metadata": {
    "scrolled": false
   },
   "outputs": [
    {
     "data": {
      "image/png": "[encoded data removed]",
      "text/plain": [
       "<Figure size 2160x360 with 2 Axes>"
      ]
     },
     "metadata": {
      "needs_background": "light"
     },
     "output_type": "display_data"
    }
   ],
   "source": [
    "n_rewards = []\n",
    "c = 0\n",
    "for i in range(1, N_EPISODE+1):\n",
    "    ep_rewards = []\n",
    "    log_probs = []\n",
    "    done_states = []\n",
    "#     returns = []\n",
    "    total_reward = 0\n",
    "    done = False\n",
    "    values = []\n",
    "    \n",
    "    state = env.reset()\n",
    "    ret = 0\n",
    "    \n",
    "    while not done:\n",
    "        state = torch.FloatTensor(state).to(device)\n",
    "        action, log_prob = actors_action(state)\n",
    "#         print(state, action)\n",
    "        value = critic(state)\n",
    "        \n",
    "        next_state, reward, done, _ = env.step(action)\n",
    "        \n",
    "        done = torch.tensor([done], dtype = torch.float, device = device)\n",
    "        ep_rewards.append(torch.tensor([reward], dtype = torch.float, device = device))\n",
    "        log_probs.append(log_prob)\n",
    "        done_states.append(done)\n",
    "        values.append(value)\n",
    "\n",
    "        total_reward += reward\n",
    "        \n",
    "#         ret = compute_returns(next_state, reward, done, ret)\n",
    "#         if i%25 == 0:\n",
    "#             env.render()\n",
    "#             time.sleep(0.02)\n",
    "        state = next_state\n",
    "\n",
    "    q_vals = compute_returns(next_state, ep_rewards, done_states)\n",
    "    q_vals = torch.stack(q_vals)\n",
    "    values = torch.stack(values)\n",
    "    log_probs = torch.stack(log_probs)\n",
    "\n",
    "    \n",
    "    loss = ACupdate(log_probs, q_vals, values)\n",
    "    \n",
    "    n_rewards.append(total_reward)\n",
    "    plot(n_rewards, loss)\n",
    "    \n",
    "#     if np.mean(n_rewards[-20:]) == 1000:\n",
    "#         torch.save(actor.state_dict(), 'adv-actor.pth')\n",
    "#         torch.save(critic.state_dict(), 'adv-critic.pth')\n",
    "        \n",
    "#         c += 1\n",
    "        \n",
    "#         print(\"Model Saved\")"
   ]
  },
  {
   "cell_type": "code",
   "execution_count": 15,
   "metadata": {},
   "outputs": [
    {
     "name": "stdout",
     "output_type": "stream",
     "text": [
      "Creating window glfw\n",
      "Duration till which pole is balanced:  1000.0\n"
     ]
    }
   ],
   "source": [
    "state = env.reset()\n",
    "\n",
    "\n",
    "total_reward = 0\n",
    "done = False\n",
    "\n",
    "\n",
    "while not done:\n",
    "    state = torch.FloatTensor(state).to(device)\n",
    "    action, log_prob = actors_action(state)\n",
    "    \n",
    "    next_state, reward, done, _ = env.step(action)\n",
    "    total_reward += reward\n",
    "    \n",
    "    env.render()\n",
    "    time.sleep(0.01)\n",
    "    \n",
    "    state = next_state\n",
    "    \n",
    "print('Duration till which pole is balanced: ', total_reward)\n",
    "\n",
    "env.close()"
   ]
  },
  {
   "cell_type": "code",
   "execution_count": null,
   "metadata": {},
   "outputs": [],
   "source": []
  }
 ],
 "metadata": {
  "kernelspec": {
   "display_name": "Python 3",
   "language": "python",
   "name": "python3"
  },
  "language_info": {
   "codemirror_mode": {
    "name": "ipython",
    "version": 3
   },
   "file_extension": ".py",
   "mimetype": "text/x-python",
   "name": "python",
   "nbconvert_exporter": "python",
   "pygments_lexer": "ipython3",
   "version": "3.7.7"
  }
 },
 "nbformat": 4,
 "nbformat_minor": 4
}

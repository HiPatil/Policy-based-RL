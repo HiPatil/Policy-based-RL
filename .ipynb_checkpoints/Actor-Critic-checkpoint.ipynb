{
 "cells": [
  {
   "cell_type": "code",
   "execution_count": 2,
   "metadata": {},
   "outputs": [],
   "source": [
    "import numpy as np\n",
    "import time\n",
    "import random\n",
    "import gym\n",
    "\n",
    "import torch\n",
    "import torch.nn as nn\n",
    "import torch.optim as optim\n",
    "import torch.nn.functional as F\n",
    "\n",
    "import matplotlib.pyplot as plt\n",
    "\n",
    "from IPython.display import clear_output\n",
    "%matplotlib inline"
   ]
  },
  {
   "cell_type": "code",
   "execution_count": 3,
   "metadata": {},
   "outputs": [
    {
     "name": "stdout",
     "output_type": "stream",
     "text": [
      "Observation Shape: (4,) \n",
      "Action Shape: Box(1,)\n"
     ]
    }
   ],
   "source": [
    "env = gym.make('InvertedPendulum-v2')\n",
    "\n",
    "print('Observation Shape:', env.observation_space.shape, '\\nAction Shape:', env.action_space)"
   ]
  },
  {
   "cell_type": "code",
   "execution_count": 4,
   "metadata": {},
   "outputs": [
    {
     "name": "stdout",
     "output_type": "stream",
     "text": [
      "cuda\n"
     ]
    }
   ],
   "source": [
    "device = torch.device(\"cuda\" if torch.cuda.is_available() else \"cpu\")\n",
    "print(device)"
   ]
  },
  {
   "cell_type": "code",
   "execution_count": 5,
   "metadata": {},
   "outputs": [],
   "source": [
    "## Hyperparameters\n",
    "\n",
    "BATCH_SIZE = 128\n",
    "LEARNING_RATE = 0.001\n",
    "DISCOUNT = 0.99\n",
    "EPS = 1\n",
    "EPS_DECAY = 0.9999\n",
    "END_EPS = 0.1\n",
    "\n",
    "N_EPISODE = 2000\n",
    "\n",
    "obs_dim = env.observation_space.shape[0]\n",
    "action_dim = env.action_space.shape[0]"
   ]
  },
  {
   "cell_type": "code",
   "execution_count": 6,
   "metadata": {},
   "outputs": [],
   "source": [
    "class Actor(nn.Module):\n",
    "    def __init__(self, observations, actions):\n",
    "        super(Actor, self).__init__()\n",
    "        self.actor = nn.Sequential(\n",
    "            nn.Linear(observations, 32),\n",
    "            nn.ReLU(),\n",
    "            nn.Linear(32, 16),\n",
    "            nn.ReLU()\n",
    "        )\n",
    "        self.l1 = nn.Linear(16, actions)\n",
    "        self.l2 = nn.Linear(16, actions)\n",
    "        \n",
    "    def forward(self, x):\n",
    "        x = self.actor(x)\n",
    "        mean = self.l1(x)\n",
    "        variance = F.softplus(self.l2(x))\n",
    "        \n",
    "        return mean, variance"
   ]
  },
  {
   "cell_type": "code",
   "execution_count": 7,
   "metadata": {},
   "outputs": [],
   "source": [
    "actor = Actor(obs_dim, action_dim).to(device)\n",
    "optimizerA = optim.Adam(actor.parameters())"
   ]
  },
  {
   "cell_type": "code",
   "execution_count": 8,
   "metadata": {},
   "outputs": [],
   "source": [
    "def actors_action(state):\n",
    "    state = torch.FloatTensor(state).to(device)\n",
    "    \n",
    "    mean, variance = actor(state)\n",
    "    \n",
    "    m = torch.distributions.Normal(mean, torch.sqrt(variance))\n",
    "    action = m.sample()\n",
    "    log_prob = m.log_prob(action)\n",
    "    \n",
    "    return action.detach().cpu().numpy(), log_prob"
   ]
  },
  {
   "cell_type": "code",
   "execution_count": 9,
   "metadata": {},
   "outputs": [],
   "source": [
    "class Critic(nn.Module):\n",
    "    def __init__(self, observations, actions):\n",
    "        super(Critic, self).__init__()\n",
    "        self.critic = nn.Sequential(\n",
    "            nn.Linear(observations, 64),\n",
    "            nn.ReLU(),\n",
    "            nn.Linear(64, 32),\n",
    "            nn.ReLU(),\n",
    "            nn.Linear(32, actions)\n",
    "        )\n",
    "    \n",
    "    def forward(self, x):\n",
    "        return self.critic(x)"
   ]
  },
  {
   "cell_type": "code",
   "execution_count": 16,
   "metadata": {},
   "outputs": [],
   "source": [
    "critic = Critic(obs_dim, action_dim).to(device)\n",
    "optimizerC = optim.Adam(critic.parameters())\n",
    "criterionC = nn.MSELoss().to(device)"
   ]
  },
  {
   "cell_type": "code",
   "execution_count": 11,
   "metadata": {},
   "outputs": [],
   "source": [
    "def critics_action(state):\n",
    "    global EPS, END_EPS, EPS_DECAY\n",
    "    EPS = max(EPS*EPS_DECAY, END_EPS)\n",
    "    \n",
    "    if random.random()<EPS:\n",
    "        action = env.action_space.sample()\n",
    "    else:\n",
    "        state = torch.FloatTensor(state).to(device)\n",
    "        action = torch.argmax(critic(state).item())\n",
    "    \n",
    "    return action"
   ]
  },
  {
   "cell_type": "code",
   "execution_count": 15,
   "metadata": {},
   "outputs": [],
   "source": [
    "def compute_returns(next_state, rewards, done, discount = DISCOUNT):\n",
    "#     q_val = critic(state)\n",
    "\n",
    "    next_state = torch.FloatTensor(next_state).to(device)\n",
    "    next_q_val = critic(next_state)\n",
    "    returns = []\n",
    "    \n",
    "    for step in reversed(range(len(rewards))):\n",
    "        next_q_val = rewards[step] + discount*next_q_val*done[step]\n",
    "        returns.append(next_q_val)\n",
    "        \n",
    "    returns.reverse()\n",
    "    return returns\n",
    "    "
   ]
  },
  {
   "cell_type": "code",
   "execution_count": null,
   "metadata": {},
   "outputs": [],
   "source": [
    "def ACupdate(log_probs, ret):\n",
    "    optimizerA.zero_grad()\n",
    "    optimizerC.zero_grad()\n",
    "    \n",
    "    actor_loss = 0\n",
    "    critic_loss = 0\n",
    "    \n",
    "    for itr, log_prob in enumerate(log_probs):\n",
    "        retr = ret[itr]\n",
    "        actor_loss -= torch.sum(log_prob*retr)\n",
    "        critic_loss += criterionC(values, retr)\n",
    "        \n",
    "    actor_loss.backward()\n",
    "    critic_loss.backward()\n",
    "    \n",
    "    optimizerA.step()\n",
    "    optimizerC.step()"
   ]
  },
  {
   "cell_type": "code",
   "execution_count": 14,
   "metadata": {},
   "outputs": [
    {
     "ename": "NameError",
     "evalue": "name 'action' is not defined",
     "output_type": "error",
     "traceback": [
      "\u001b[0;31m---------------------------------------------------------------------------\u001b[0m",
      "\u001b[0;31mNameError\u001b[0m                                 Traceback (most recent call last)",
      "\u001b[0;32m<ipython-input-14-edbc8880df66>\u001b[0m in \u001b[0;36m<module>\u001b[0;34m\u001b[0m\n\u001b[1;32m     10\u001b[0m \u001b[0;34m\u001b[0m\u001b[0m\n\u001b[1;32m     11\u001b[0m     \u001b[0;32mwhile\u001b[0m \u001b[0;32mnot\u001b[0m \u001b[0mdone\u001b[0m\u001b[0;34m:\u001b[0m\u001b[0;34m\u001b[0m\u001b[0;34m\u001b[0m\u001b[0m\n\u001b[0;32m---> 12\u001b[0;31m         \u001b[0maction\u001b[0m\u001b[0;34m,\u001b[0m \u001b[0mlog_prob\u001b[0m \u001b[0;34m=\u001b[0m \u001b[0maction\u001b[0m\u001b[0;34m(\u001b[0m\u001b[0mstate\u001b[0m\u001b[0;34m)\u001b[0m\u001b[0;34m\u001b[0m\u001b[0;34m\u001b[0m\u001b[0m\n\u001b[0m\u001b[1;32m     13\u001b[0m \u001b[0;34m\u001b[0m\u001b[0m\n\u001b[1;32m     14\u001b[0m         \u001b[0mnext_state\u001b[0m\u001b[0;34m,\u001b[0m \u001b[0mreward\u001b[0m\u001b[0;34m,\u001b[0m \u001b[0mdone\u001b[0m\u001b[0;34m,\u001b[0m \u001b[0m_\u001b[0m \u001b[0;34m=\u001b[0m \u001b[0menv\u001b[0m\u001b[0;34m.\u001b[0m\u001b[0mstep\u001b[0m\u001b[0;34m(\u001b[0m\u001b[0maction\u001b[0m\u001b[0;34m)\u001b[0m\u001b[0;34m\u001b[0m\u001b[0;34m\u001b[0m\u001b[0m\n",
      "\u001b[0;31mNameError\u001b[0m: name 'action' is not defined"
     ]
    }
   ],
   "source": [
    "n_rewards = []\n",
    "\n",
    "for i in range(1, N_EPISODE+1):\n",
    "    ep_rewards = []\n",
    "    log_probs = []\n",
    "    returns\n",
    "    total_reward = 0\n",
    "    done = False\n",
    "    values = []\n",
    "    \n",
    "    state = env.reset()\n",
    "    ret = 0\n",
    "    \n",
    "    while not done:\n",
    "        action, log_prob = actors_action(state)\n",
    "        value = critic(state)\n",
    "        next_state, reward, done, _ = env.step(action)\n",
    "        \n",
    "        done = torch.tensor([done], dtype = torch.float, device = device)\n",
    "        \n",
    "        ep_rewards.append(torch.tensor([reward], dtype = torch.float, device = device))\n",
    "        log_probs.append(log_prob)\n",
    "        done_states.append(done)\n",
    "        values.append(value)\n",
    "        \n",
    "        total_reward += reward\n",
    "#         ret = compute_returns(next_state, reward, done, ret)\n",
    "#         if i%5 == 0:\n",
    "#             env.render()\n",
    "        state = next_state\n",
    "        \n",
    "    ret = compute_returns(next_state, ep_rewards, done_states)\n",
    "    \n",
    "    ACupdate(log_probs, ret, values)\n",
    "    \n",
    "    n_rewards.append(total_reward)"
   ]
  },
  {
   "cell_type": "code",
   "execution_count": null,
   "metadata": {},
   "outputs": [],
   "source": []
  }
 ],
 "metadata": {
  "kernelspec": {
   "display_name": "Python 3",
   "language": "python",
   "name": "python3"
  },
  "language_info": {
   "codemirror_mode": {
    "name": "ipython",
    "version": 3
   },
   "file_extension": ".py",
   "mimetype": "text/x-python",
   "name": "python",
   "nbconvert_exporter": "python",
   "pygments_lexer": "ipython3",
   "version": "3.7.7"
  }
 },
 "nbformat": 4,
 "nbformat_minor": 4
}
